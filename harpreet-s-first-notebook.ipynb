{
 "cells": [
  {
   "cell_type": "markdown",
   "id": "6dbdddce",
   "metadata": {
    "_cell_guid": "b1076dfc-b9ad-4769-8c92-a6c4dae69d19",
    "_uuid": "8f2839f25d086af736a60e9eeb907d3b93b6e0e5",
    "papermill": {
     "duration": 0.001902,
     "end_time": "2025-03-19T05:29:27.220145",
     "exception": false,
     "start_time": "2025-03-19T05:29:27.218243",
     "status": "completed"
    },
    "tags": []
   },
   "source": [
    "# This is Harpreet's first Notebook"
   ]
  },
  {
   "cell_type": "code",
   "execution_count": 1,
   "id": "f63007bc",
   "metadata": {
    "execution": {
     "iopub.execute_input": "2025-03-19T05:29:27.224506Z",
     "iopub.status.busy": "2025-03-19T05:29:27.224035Z",
     "iopub.status.idle": "2025-03-19T05:29:27.231754Z",
     "shell.execute_reply": "2025-03-19T05:29:27.230678Z"
    },
    "papermill": {
     "duration": 0.011515,
     "end_time": "2025-03-19T05:29:27.233236",
     "exception": false,
     "start_time": "2025-03-19T05:29:27.221721",
     "status": "completed"
    },
    "tags": []
   },
   "outputs": [
    {
     "data": {
      "text/plain": [
       "4"
      ]
     },
     "execution_count": 1,
     "metadata": {},
     "output_type": "execute_result"
    }
   ],
   "source": [
    "2+2"
   ]
  }
 ],
 "metadata": {
  "kaggle": {
   "accelerator": "none",
   "dataSources": [],
   "dockerImageVersionId": 30918,
   "isGpuEnabled": false,
   "isInternetEnabled": false,
   "language": "python",
   "sourceType": "notebook"
  },
  "kernelspec": {
   "display_name": "Python 3",
   "language": "python",
   "name": "python3"
  },
  "language_info": {
   "codemirror_mode": {
    "name": "ipython",
    "version": 3
   },
   "file_extension": ".py",
   "mimetype": "text/x-python",
   "name": "python",
   "nbconvert_exporter": "python",
   "pygments_lexer": "ipython3",
   "version": "3.10.12"
  },
  "papermill": {
   "default_parameters": {},
   "duration": 3.202529,
   "end_time": "2025-03-19T05:29:27.653471",
   "environment_variables": {},
   "exception": null,
   "input_path": "__notebook__.ipynb",
   "output_path": "__notebook__.ipynb",
   "parameters": {},
   "start_time": "2025-03-19T05:29:24.450942",
   "version": "2.6.0"
  }
 },
 "nbformat": 4,
 "nbformat_minor": 5
}
